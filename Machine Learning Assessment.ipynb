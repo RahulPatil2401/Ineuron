{
 "cells": [
  {
   "cell_type": "code",
   "execution_count": 11,
   "id": "8ea34b30",
   "metadata": {},
   "outputs": [
    {
     "name": "stdout",
     "output_type": "stream",
     "text": [
      "Best Hyperparameters: {'splitter': 'random', 'min_samples_split': 5, 'min_samples_leaf': 1, 'max_depth': 50, 'criterion': 'gini'}\n",
      "Test Set Accuracy: 0.9722222222222222\n",
      "Random Forest Ensemble Test Set Accuracy: 0.9722222222222222\n"
     ]
    }
   ],
   "source": [
    "import numpy as np\n",
    "from sklearn.datasets import load_wine\n",
    "from sklearn.model_selection import train_test_split, RandomizedSearchCV, ShuffleSplit\n",
    "from sklearn.tree import DecisionTreeClassifier\n",
    "from sklearn.ensemble import RandomForestClassifier\n",
    "from sklearn.metrics import accuracy_score\n",
    "\n",
    "# Load the wine dataset\n",
    "wine = load_wine()\n",
    "X, y = wine.data, wine.target\n",
    "# Split the dataset into train and test sets\n",
    "X_train, X_test, y_train, y_test = train_test_split(X, y, test_size=0.2, random_state=42)\n",
    "# Define the hyperparameter grid\n",
    "param_dist = {\n",
    "    'criterion': ['gini', 'entropy'],\n",
    "    'splitter': ['best', 'random'],\n",
    "    'max_depth': [None, 10, 20, 30, 40, 50],\n",
    "    'min_samples_split': [2, 5, 10],\n",
    "    'min_samples_leaf': [1, 2, 4]\n",
    "}\n",
    "\n",
    "# Create a Decision Tree classifier\n",
    "dt_classifier = DecisionTreeClassifier()\n",
    "\n",
    "# Use RandomizedSearchCV for hyperparameter tuning\n",
    "random_search = RandomizedSearchCV(dt_classifier, param_distributions=param_dist, n_iter=100, scoring='accuracy', cv=5, n_jobs=-1, random_state=42)\n",
    "random_search.fit(X_train, y_train)\n",
    "\n",
    "# Get the best hyperparameters\n",
    "best_params = random_search.best_params_\n",
    "print(\"Best Hyperparameters:\", best_params)\n",
    "\n",
    "# Evaluate the accuracy on the test set\n",
    "y_pred = random_search.predict(X_test)\n",
    "accuracy = accuracy_score(y_test, y_pred)\n",
    "print(\"Test Set Accuracy:\", accuracy)\n",
    "# Create 10 subsets of the training dataset using ShuffleSplit\n",
    "shuffle_split = ShuffleSplit(n_splits=10, test_size=0.2, random_state=42)\n",
    "\n",
    "# Initialize an empty list to store individual decision trees\n",
    "trees = []\n",
    "\n",
    "# Train 10 decision trees on each subset\n",
    "for train_index, _ in shuffle_split.split(X_train):\n",
    "    subset_X_train, subset_y_train = X_train[train_index], y_train[train_index]\n",
    "\n",
    "    # Create a Decision Tree with the best hyperparameters found\n",
    "    tree = DecisionTreeClassifier(**best_params)\n",
    "    tree.fit(subset_X_train, subset_y_train)\n",
    "    trees.append(tree)\n",
    "\n",
    "# Evaluate all the trees on the test dataset\n",
    "ensemble_predictions = np.array([tree.predict(X_test) for tree in trees])\n",
    "ensemble_predictions = np.transpose(ensemble_predictions)\n",
    "\n",
    "# Use majority voting to get the final prediction\n",
    "final_predictions = np.apply_along_axis(lambda x: np.bincount(x).argmax(), axis=1, arr=ensemble_predictions)\n",
    "\n",
    "# Evaluate the accuracy of the ensemble on the test set\n",
    "ensemble_accuracy = accuracy_score(y_test, final_predictions)\n",
    "print(\"Random Forest Ensemble Test Set Accuracy:\", ensemble_accuracy)\n"
   ]
  }
 ],
 "metadata": {
  "kernelspec": {
   "display_name": "Python 3 (ipykernel)",
   "language": "python",
   "name": "python3"
  },
  "language_info": {
   "codemirror_mode": {
    "name": "ipython",
    "version": 3
   },
   "file_extension": ".py",
   "mimetype": "text/x-python",
   "name": "python",
   "nbconvert_exporter": "python",
   "pygments_lexer": "ipython3",
   "version": "3.11.5"
  }
 },
 "nbformat": 4,
 "nbformat_minor": 5
}
